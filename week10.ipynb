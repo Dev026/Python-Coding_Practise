{
 "cells": [
  {
   "cell_type": "markdown",
   "id": "c528251f",
   "metadata": {},
   "source": [
    "# Q1) Given two non-negative integers num1 and num2 represented as strings, return the product of num1 and num2, also represented as a string.\n",
    "\n",
    "Note: You must not use any built-in BigInteger library or convert the inputs to integer directly.\n",
    "\n",
    " \n",
    "\n",
    "Example 1:\n",
    "\n",
    "Input: num1 = \"2\", num2 = \"3\"\n",
    "\n",
    "Output: \"6\""
   ]
  },
  {
   "cell_type": "code",
   "execution_count": 4,
   "id": "5436df69",
   "metadata": {},
   "outputs": [
    {
     "name": "stdout",
     "output_type": "stream",
     "text": [
      "6\n"
     ]
    }
   ],
   "source": [
    "print(str(int(num1)*int(num2))) # could only come up with this solution."
   ]
  },
  {
   "cell_type": "code",
   "execution_count": 10,
   "id": "c6372610",
   "metadata": {},
   "outputs": [],
   "source": [
    "def multiply(num1: str, num2: str) -> str:\n",
    "        if num1 == '0' or num2 == '0':\n",
    "            return '0'\n",
    "        len1, len2 = len(num1), len(num2)\n",
    "        result = [0] * (len1+len2)\n",
    "        for i in range(len1-1,-1,-1):\n",
    "            for j in range(len2-1,-1,-1):\n",
    "                mul = (ord(num1[i])-ord('0'))* (ord(num2[j])-ord('0'))\n",
    "                pos1 , pos2 = i + j , i + j + 1\n",
    "                total  = mul + result[pos2]\n",
    "                result[pos1] += total // 10\n",
    "                result[pos2] = total % 10\n",
    "        result_str = ''.join(map(str,result))\n",
    "        result_str = result_str.lstrip('0')\n",
    "        return result_str if result_str else '0'\n",
    "    "
   ]
  },
  {
   "cell_type": "code",
   "execution_count": 14,
   "id": "764818c9",
   "metadata": {},
   "outputs": [
    {
     "name": "stdout",
     "output_type": "stream",
     "text": [
      "5625\n",
      "6\n"
     ]
    }
   ],
   "source": [
    "n1 = '125'\n",
    "n2 = '45'\n",
    "print(multiply(n1,n2))\n",
    "num1 = '2'\n",
    "num2 = '3'\n",
    "print(multiply(num1,num2))"
   ]
  },
  {
   "cell_type": "markdown",
   "id": "4711a19f",
   "metadata": {},
   "source": [
    "# Q2) The count-and-say sequence is a sequence of digit strings defined by the recursive formula:\n",
    "\n",
    "countAndSay(1) = \"1\"\n",
    "countAndSay(n) is the way you would \"say\" the digit string from countAndSay(n-1), which is then converted into a different digit string.\n",
    "To determine how you \"say\" a digit string, split it into the minimal number of substrings such that each substring contains exactly one unique digit. Then for each substring, say the number of digits, then say the digit. Finally, concatenate every said digit.\n",
    "\n",
    "For example, the saying and conversion for digit string \"3322251\":"
   ]
  },
  {
   "cell_type": "code",
   "execution_count": 16,
   "id": "aa424ecc",
   "metadata": {},
   "outputs": [],
   "source": [
    "def countAndSay(n: int) -> str:\n",
    "    s = \"1\"\n",
    "    for i in range(2, n + 1):\n",
    "        streak = 0\n",
    "        prev = \"\"\n",
    "        res = \"\"\n",
    "        for c in s:\n",
    "            if prev == \"\" or prev == c:\n",
    "                streak += 1\n",
    "            else:\n",
    "                res += str(streak) + prev\n",
    "                streak = 1\n",
    "            prev = c\n",
    "        res += str(streak) + prev\n",
    "        s = res\n",
    "    return s\n"
   ]
  },
  {
   "cell_type": "code",
   "execution_count": 20,
   "id": "fe5ca641",
   "metadata": {},
   "outputs": [
    {
     "name": "stdout",
     "output_type": "stream",
     "text": [
      "1\n"
     ]
    }
   ],
   "source": [
    "n = 1\n",
    "print(countAndSay(n))"
   ]
  },
  {
   "cell_type": "code",
   "execution_count": null,
   "id": "e4e70159",
   "metadata": {},
   "outputs": [],
   "source": []
  }
 ],
 "metadata": {
  "kernelspec": {
   "display_name": "Python 3 (ipykernel)",
   "language": "python",
   "name": "python3"
  },
  "language_info": {
   "codemirror_mode": {
    "name": "ipython",
    "version": 3
   },
   "file_extension": ".py",
   "mimetype": "text/x-python",
   "name": "python",
   "nbconvert_exporter": "python",
   "pygments_lexer": "ipython3",
   "version": "3.11.4"
  }
 },
 "nbformat": 4,
 "nbformat_minor": 5
}
