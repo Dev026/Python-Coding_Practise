{
 "cells": [
  {
   "cell_type": "code",
   "execution_count": 11,
   "id": "af62efa9",
   "metadata": {},
   "outputs": [
    {
     "name": "stdout",
     "output_type": "stream",
     "text": [
      "[8, 9, 4, 1]\n"
     ]
    }
   ],
   "source": [
    "#Write a Python program to find all the numbers from 0-9 from a string:\n",
    "res = []\n",
    "Input = '89ADFRE41'\n",
    "for i in Input:\n",
    "    if i.isnumeric():\n",
    "        res.append(int(i))\n",
    "        \n",
    "print(res)"
   ]
  },
  {
   "cell_type": "code",
   "execution_count": 46,
   "id": "d9acbedf",
   "metadata": {},
   "outputs": [
    {
     "name": "stdout",
     "output_type": "stream",
     "text": [
      "[3, 5]\n"
     ]
    }
   ],
   "source": [
    "#Write a Python program to find two elements once in a list where every element appears exactly n times in the list.\n",
    "\n",
    "arr=[1, 2, 1, 3, 2, 5]\n",
    "#sorting the array\n",
    "arr.sort()\n",
    "\n",
    "frequency_count={}# creating an empty dict to store frequenct of each element\n",
    "n=1 #setting the target\n",
    "\n",
    "#iterating:\n",
    "for i in arr:\n",
    "    if i in frequency_count:\n",
    "        frequency_count[i]+=1\n",
    "    else:\n",
    "        frequency_count[i]=1\n",
    "        \n",
    "result = []#empty list to store result\n",
    "for i,frequency in frequency_count.items():\n",
    "    if frequency == n: #conditon for target\n",
    "        result.append(i)\n",
    "        \n",
    "print(result)"
   ]
  },
  {
   "cell_type": "markdown",
   "id": "17acd401",
   "metadata": {},
   "source": [
    "# If you want to do with target set to 2 (n=2)"
   ]
  },
  {
   "cell_type": "code",
   "execution_count": 47,
   "id": "987fc0b3",
   "metadata": {},
   "outputs": [
    {
     "name": "stdout",
     "output_type": "stream",
     "text": [
      "[3, 5]\n"
     ]
    }
   ],
   "source": [
    "#Write a Python program to find two elements once in a list where every element appears exactly n times in the list.\n",
    "\n",
    "arr=[1, 2, 1, 3, 2, 5]\n",
    "#sorting the array\n",
    "arr.sort()\n",
    "\n",
    "frequency_count={}# creating an empty dict to store frequenct of each element\n",
    "n=2 #setting the target\n",
    "\n",
    "#iterating:\n",
    "for i in arr:\n",
    "    if i in frequency_count:\n",
    "        frequency_count[i]+=1\n",
    "    else:\n",
    "        frequency_count[i]=1\n",
    "        \n",
    "result = []#empty list to store result\n",
    "for i,frequency in frequency_count.items():\n",
    "    if frequency != n: #conditon for target\n",
    "        result.append(i)\n",
    "        \n",
    "print(result)"
   ]
  },
  {
   "cell_type": "markdown",
   "id": "51dcc5e8",
   "metadata": {},
   "source": [
    "# Write a Python program to reverse the digits of an integer. \n",
    "Input : 234\n",
    "Input : -234\n",
    "Output: 432\n",
    "Output : -432\n",
    "\n"
   ]
  },
  {
   "cell_type": "code",
   "execution_count": 52,
   "id": "b4b0f588",
   "metadata": {},
   "outputs": [
    {
     "name": "stdout",
     "output_type": "stream",
     "text": [
      "432\n"
     ]
    }
   ],
   "source": [
    "a = 234\n",
    "b = -234\n",
    "print(str(a)[::-1]) # works with positive integer"
   ]
  },
  {
   "cell_type": "code",
   "execution_count": 55,
   "id": "c8ac41a1",
   "metadata": {},
   "outputs": [],
   "source": [
    "# def reversed_number():\n",
    "#     while num !=0:\n",
    "#         digit=num%10\n",
    "#         reversed_num = num*10+digit\n",
    "#         num//=10\n",
    "#         return reversed_num\n",
    "# well that was useless "
   ]
  },
  {
   "cell_type": "code",
   "execution_count": 68,
   "id": "79b2a9b8",
   "metadata": {},
   "outputs": [],
   "source": [
    "def reve(x):\n",
    "    x=str(x)\n",
    "    if x[0]=='-':\n",
    "        a=x[::-1]\n",
    "        return f\"{x[0]}{a[:-1]}\"\n",
    "    else:\n",
    "        return x[::-1]"
   ]
  },
  {
   "cell_type": "code",
   "execution_count": 69,
   "id": "1676b3fa",
   "metadata": {},
   "outputs": [
    {
     "data": {
      "text/plain": [
       "'-432'"
      ]
     },
     "execution_count": 69,
     "metadata": {},
     "output_type": "execute_result"
    }
   ],
   "source": [
    "reve(-234)"
   ]
  },
  {
   "cell_type": "code",
   "execution_count": null,
   "id": "69b1e1d5",
   "metadata": {},
   "outputs": [],
   "source": []
  },
  {
   "cell_type": "code",
   "execution_count": null,
   "id": "0f0af090",
   "metadata": {},
   "outputs": [],
   "source": []
  }
 ],
 "metadata": {
  "kernelspec": {
   "display_name": "Python 3 (ipykernel)",
   "language": "python",
   "name": "python3"
  },
  "language_info": {
   "codemirror_mode": {
    "name": "ipython",
    "version": 3
   },
   "file_extension": ".py",
   "mimetype": "text/x-python",
   "name": "python",
   "nbconvert_exporter": "python",
   "pygments_lexer": "ipython3",
   "version": "3.11.4"
  }
 },
 "nbformat": 4,
 "nbformat_minor": 5
}
