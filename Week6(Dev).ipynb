{
 "cells": [
  {
   "cell_type": "markdown",
   "id": "03514ccb",
   "metadata": {},
   "source": [
    "# 1-Write a Python program to check a sequence of numbers is an arithmetic progression or not. \n",
    "Input : [5, 7, 9, 11]"
   ]
  },
  {
   "cell_type": "code",
   "execution_count": 3,
   "id": "3a6d6fda",
   "metadata": {},
   "outputs": [],
   "source": [
    "def arithmetic_prog(lst):\n",
    "    div = lst[1]-lst[0]\n",
    "    for i in range(1,len(lst)):\n",
    "        if lst[i]-lst[i-1] == div:\n",
    "            result = \"True\"\n",
    "        else:\n",
    "            result = \"False\"\n",
    "    return result"
   ]
  },
  {
   "cell_type": "code",
   "execution_count": 4,
   "id": "22e0b3b3",
   "metadata": {},
   "outputs": [
    {
     "name": "stdout",
     "output_type": "stream",
     "text": [
      "True\n"
     ]
    }
   ],
   "source": [
    "print(arithmetic_prog([5, 7, 9, 11]))"
   ]
  },
  {
   "cell_type": "markdown",
   "id": "8dfe6e9c",
   "metadata": {},
   "source": [
    "# 2-Write a Python program to check whether a given number is an ugly number. \n",
    "# Input : 12\n",
    "Ugly numbers are positive numbers whose only prime factors are 2, 3 or 5. The sequence 1, 2, 3, 4, 5, 6, 8, 9, 10, 12, ...\n",
    "shows the first 10 ugly numbers.\n",
    "Note: 1 is typically treated as an ugly number"
   ]
  },
  {
   "cell_type": "code",
   "execution_count": 33,
   "id": "c98bbf9a",
   "metadata": {},
   "outputs": [],
   "source": [
    "def is_ugly(num):\n",
    "    if num == 0:\n",
    "        return False\n",
    "    for i in [2,3,5]:\n",
    "        while num % i == 0:\n",
    "            num /= i\n",
    "    return num == 1"
   ]
  },
  {
   "cell_type": "code",
   "execution_count": 34,
   "id": "1f43a29f",
   "metadata": {},
   "outputs": [
    {
     "name": "stdout",
     "output_type": "stream",
     "text": [
      "True\n",
      "False\n"
     ]
    }
   ],
   "source": [
    "print(is_ugly(12))\n",
    "print(is_ugly(13))"
   ]
  },
  {
   "cell_type": "markdown",
   "id": "d5248ee7",
   "metadata": {},
   "source": [
    "# 3-Write a Python Function to find the single number in a list that doesn't occur n times.\n",
    "Input : [5, 3,3,4, 4, 3, 4], N=3\n",
    "Output : 5"
   ]
  },
  {
   "cell_type": "code",
   "execution_count": 39,
   "id": "8db4c74d",
   "metadata": {},
   "outputs": [
    {
     "name": "stdout",
     "output_type": "stream",
     "text": [
      "[5]\n"
     ]
    }
   ],
   "source": [
    "arr=[5, 3, 3 ,4, 4, 3, 4]\n",
    "#sorting the array\n",
    "arr.sort()\n",
    "\n",
    "frequency_count={}# creating an empty dict to store frequenct of each element\n",
    "n=3 #setting the target\n",
    "\n",
    "#iterating:\n",
    "for i in arr:\n",
    "    if i in frequency_count:\n",
    "        frequency_count[i]+=1\n",
    "    else:\n",
    "        frequency_count[i]=1\n",
    "        \n",
    "result = []#empty list to store result\n",
    "for i,frequency in frequency_count.items():\n",
    "    if frequency != n: #conditon for target\n",
    "        result.append(i)\n",
    "        \n",
    "print(result)"
   ]
  }
 ],
 "metadata": {
  "kernelspec": {
   "display_name": "Python 3 (ipykernel)",
   "language": "python",
   "name": "python3"
  },
  "language_info": {
   "codemirror_mode": {
    "name": "ipython",
    "version": 3
   },
   "file_extension": ".py",
   "mimetype": "text/x-python",
   "name": "python",
   "nbconvert_exporter": "python",
   "pygments_lexer": "ipython3",
   "version": "3.11.4"
  }
 },
 "nbformat": 4,
 "nbformat_minor": 5
}
