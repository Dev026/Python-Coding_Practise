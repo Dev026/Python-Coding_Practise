{
 "cells": [
  {
   "cell_type": "markdown",
   "id": "34bc193c",
   "metadata": {},
   "source": [
    "# # Q1 )Given an integer x, return true if x is palindrome integer.\n",
    "\n",
    "# An integer is a palindrome when it reads the same backward as forward.\n",
    "\n",
    "# For example, 121 is a palindrome while 123 is not."
   ]
  },
  {
   "cell_type": "code",
   "execution_count": 38,
   "id": "39d8db9e",
   "metadata": {},
   "outputs": [],
   "source": [
    "#Palindrome Number\n",
    "def palindrome_num(num):\n",
    "    temp=num\n",
    "    reversed_num = 0\n",
    "    while num>0:\n",
    "        digit = num%10\n",
    "        reversed_num = reversed_num*10+digit\n",
    "        num= num//10\n",
    "    \n",
    "    if reversed_num == temp:\n",
    "        return \"The number is a palindrome number\"\n",
    "    else:\n",
    "        return \"The number isn't a palindrome number\""
   ]
  },
  {
   "cell_type": "code",
   "execution_count": 39,
   "id": "2e25d662",
   "metadata": {},
   "outputs": [
    {
     "name": "stdout",
     "output_type": "stream",
     "text": [
      "The number is a palindrome number\n"
     ]
    }
   ],
   "source": [
    "print(palindrome_num(121))"
   ]
  },
  {
   "cell_type": "markdown",
   "id": "2a1e16a0",
   "metadata": {},
   "source": []
  },
  {
   "cell_type": "markdown",
   "id": "c7972e44",
   "metadata": {},
   "source": [
    "Q2)\n",
    "\n",
    "Roman numerals are represented by seven different symbols: I, V, X, L, C, D and M.\n",
    "\n",
    "Symbol       Value\n",
    "\n",
    "I             1\n",
    "\n",
    "V             5\n",
    "\n",
    "X             10\n",
    "\n",
    "L             50\n",
    "\n",
    "C             100\n",
    "\n",
    "D             500\n",
    "\n",
    "M             1000\n",
    "\n",
    "For example, 2 is written as II in Roman numeral, just two ones added together. 12 is written as XII, which is simply X + II. The number 27 is written as XXVII, which is XX + V + II.\n",
    "\n",
    "Roman numerals are usually written largest to smallest from left to right. However, the numeral for four is not IIII. Instead, the number four is written as IV. Because the one is before the five we subtract it making four. The same principle applies to the number nine, which is written as IX. There are six instances where subtraction is used:\n",
    "\n",
    "I can be placed before V (5) and X (10) to make 4 and 9. \n",
    "X can be placed before L (50) and C (100) to make 40 and 90. \n",
    "C can be placed before D (500) and M (1000) to make 400 and 900.\n",
    "Given a roman numeral, convert it to an integer.\n",
    "Example 1:\n",
    "\n",
    "Input: s = \"III\"\n",
    "Output: 3\n",
    "Explanation: III = 3.\n",
    "\n",
    "Input: s = \"LVIII\"\n",
    "Output: 58\n",
    "Explanation: L = 50, V= 5, III = 3."
   ]
  },
  {
   "cell_type": "code",
   "execution_count": 78,
   "id": "84f382e3",
   "metadata": {},
   "outputs": [],
   "source": [
    "def roman_to_int(s: str)->int:\n",
    "    #values for roman values\n",
    "    roman_map = {'I': 1, 'V': 5, 'X': 10, 'L': 50, 'C': 100, 'D': 500, 'M': 1000}\n",
    "    \n",
    "     #string conversion method\n",
    "    \n",
    "    convert = {'IV': 'IIII', 'IX':'VIIII', 'XL':'XXXX','XC':'LXXXX','CD':'CCCC','CM':'DCCCC',}\n",
    "    \n",
    "    for k,v in convert.items():\n",
    "        s = s.replace(k,v)\n",
    "        \n",
    "    return sum([roman_map[numeral] for numeral in s])\n",
    "\n",
    "\n",
    "# i was not satisfied with this result because its not displaying result where its should use subtraction    \n",
    "# Iterating method but didn't work when comes to subtracting the values to get result\n",
    "#     n = len(s)\n",
    "#     i = n-1\n",
    "#     output = 0\n",
    "#     while i >=0:\n",
    "#         if i<n-1 and roman_map[s[i]] < roman_map[s[i+1]]:\n",
    "#             output -= roman_map[s[i]]\n",
    "#         else:\n",
    "#             output += roman_map[s[i]]\n",
    "#             i -= 1\n",
    "#     return output"
   ]
  },
  {
   "cell_type": "code",
   "execution_count": 85,
   "id": "d4501778",
   "metadata": {},
   "outputs": [
    {
     "name": "stdout",
     "output_type": "stream",
     "text": [
      "3\n",
      "4\n",
      "58\n",
      "1994\n"
     ]
    }
   ],
   "source": [
    "print(roman_to_int('III'))\n",
    "print(roman_to_int('IV'))\n",
    "print(roman_to_int(\"LVIII\"))\n",
    "print(roman_to_int('MCMXCIV'))"
   ]
  },
  {
   "cell_type": "code",
   "execution_count": null,
   "id": "32b0e19d",
   "metadata": {},
   "outputs": [],
   "source": []
  }
 ],
 "metadata": {
  "kernelspec": {
   "display_name": "Python 3 (ipykernel)",
   "language": "python",
   "name": "python3"
  },
  "language_info": {
   "codemirror_mode": {
    "name": "ipython",
    "version": 3
   },
   "file_extension": ".py",
   "mimetype": "text/x-python",
   "name": "python",
   "nbconvert_exporter": "python",
   "pygments_lexer": "ipython3",
   "version": "3.11.4"
  }
 },
 "nbformat": 4,
 "nbformat_minor": 5
}
