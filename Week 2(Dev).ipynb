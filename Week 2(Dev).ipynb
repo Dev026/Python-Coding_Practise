{
 "cells": [
  {
   "cell_type": "markdown",
   "id": "c15251f7",
   "metadata": {},
   "source": [
    "# Check if the number is perfect square or not"
   ]
  },
  {
   "cell_type": "code",
   "execution_count": 1,
   "id": "b89df0e5",
   "metadata": {},
   "outputs": [],
   "source": [
    "def is_perfect_square(number):\n",
    "    if number < 0:\n",
    "        return False\n",
    "    \n",
    "    i = 0\n",
    "    while i * i <= number:\n",
    "        if i * i == number:\n",
    "            return True\n",
    "        i += 1\n",
    "    \n",
    "    return False\n"
   ]
  },
  {
   "cell_type": "code",
   "execution_count": 2,
   "id": "290aa590",
   "metadata": {},
   "outputs": [
    {
     "name": "stdout",
     "output_type": "stream",
     "text": [
      "Enter the Number:1\n",
      "1 is perfect number\n"
     ]
    }
   ],
   "source": [
    "number = int(input('Enter the Number:'))\n",
    "if is_perfect_square(number):\n",
    "    print(f\"{number} is perfect number\")\n",
    "else:\n",
    "    print(f\"{number} is not a perfect number\")"
   ]
  },
  {
   "cell_type": "markdown",
   "id": "acc48f7e",
   "metadata": {},
   "source": [
    "# Find Missing Number"
   ]
  },
  {
   "cell_type": "code",
   "execution_count": 25,
   "id": "bb686399",
   "metadata": {},
   "outputs": [
    {
     "name": "stdout",
     "output_type": "stream",
     "text": [
      "[5]\n"
     ]
    }
   ],
   "source": [
    "n= [1,2,3,4,6,7,8]\n",
    "numbers = set(n)\n",
    "length = len(n)\n",
    "output = []\n",
    "for i in range(1, n[-1]):\n",
    "    if i not in numbers:\n",
    "        output.append(i)\n",
    "print(output)\n",
    "    \n"
   ]
  },
  {
   "cell_type": "markdown",
   "id": "8cae56d8",
   "metadata": {},
   "source": [
    "# Find the number which does not occur twice"
   ]
  },
  {
   "cell_type": "code",
   "execution_count": 2,
   "id": "1fb380b3",
   "metadata": {},
   "outputs": [
    {
     "name": "stdout",
     "output_type": "stream",
     "text": [
      "5\n"
     ]
    }
   ],
   "source": [
    "def single_number(array):\n",
    "    result = 0\n",
    "    for i in array:\n",
    "        result ^= i\n",
    "        return result\n",
    "array =[5, 3, 4, 3, 4]\n",
    "print(single_number(array))"
   ]
  },
  {
   "cell_type": "code",
   "execution_count": 35,
   "id": "d7e9bc16",
   "metadata": {},
   "outputs": [],
   "source": [
    "# have used Stackoverflow and W3resources as reference for Finding missing values and Find the Number Which does not occur twice "
   ]
  },
  {
   "cell_type": "code",
   "execution_count": 13,
   "id": "b7d6a51e",
   "metadata": {},
   "outputs": [
    {
     "name": "stdout",
     "output_type": "stream",
     "text": [
      "Enter a number: 1\n",
      "True\n"
     ]
    }
   ],
   "source": [
    "number = int(input(\"Enter a number: \"))  # You can replace this with the specific number you want to check\n",
    "\n",
    "if number < 0:\n",
    "    print(\"False\")\n",
    "else:\n",
    "    i = 0\n",
    "    while i * i <= number:\n",
    "        if i * i == number:\n",
    "            print(\"True\")\n",
    "            break\n",
    "        i += 1\n",
    "    else:\n",
    "        print(\"False\")"
   ]
  },
  {
   "cell_type": "code",
   "execution_count": null,
   "id": "a55351f2",
   "metadata": {},
   "outputs": [],
   "source": []
  }
 ],
 "metadata": {
  "kernelspec": {
   "display_name": "Python 3 (ipykernel)",
   "language": "python",
   "name": "python3"
  },
  "language_info": {
   "codemirror_mode": {
    "name": "ipython",
    "version": 3
   },
   "file_extension": ".py",
   "mimetype": "text/x-python",
   "name": "python",
   "nbconvert_exporter": "python",
   "pygments_lexer": "ipython3",
   "version": "3.11.4"
  }
 },
 "nbformat": 4,
 "nbformat_minor": 5
}
