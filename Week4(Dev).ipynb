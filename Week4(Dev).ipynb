{
 "cells": [
  {
   "cell_type": "markdown",
   "id": "26e74499",
   "metadata": {},
   "source": [
    "# Write a Python program to find the single element in a list where every element appears multiple times except for one."
   ]
  },
  {
   "cell_type": "code",
   "execution_count": 3,
   "id": "10fc988b",
   "metadata": {},
   "outputs": [],
   "source": [
    "def single_number(arr):\n",
    "    element_count = {} #creating an Empty Dictonary\n",
    "    for num in arr: #creating for loop element count\n",
    "        if num in element_count: #checking if the number appears more than once in the dict\n",
    "            element_count[num] += 1 \n",
    "        else:\n",
    "            element_count[num] = 1 \n",
    "    for key, value in element_count.items():\n",
    "        if value == 1: #this condition will store the value which appears for only one time in the array\n",
    "            return key"
   ]
  },
  {
   "cell_type": "code",
   "execution_count": 4,
   "id": "55274818",
   "metadata": {},
   "outputs": [
    {
     "name": "stdout",
     "output_type": "stream",
     "text": [
      "4\n"
     ]
    }
   ],
   "source": [
    "arr1 =  [5, 3, 4, 3, 5, 5, 3]\n",
    "print(single_number(arr1))"
   ]
  },
  {
   "cell_type": "markdown",
   "id": "3994396f",
   "metadata": {},
   "source": [
    "# Write a Python program to compute and return the square root of a given 'integer'. "
   ]
  },
  {
   "cell_type": "code",
   "execution_count": 6,
   "id": "7ab89201",
   "metadata": {},
   "outputs": [
    {
     "name": "stdout",
     "output_type": "stream",
     "text": [
      "Enter a positive Integer:16\n",
      "Square root of 16.0 is 4.0\n"
     ]
    }
   ],
   "source": [
    "num = float(input(\"Enter a positive Integer:\"))\n",
    "result = num**0.5\n",
    "print(f\"Square root of {num} is {result}\")"
   ]
  },
  {
   "cell_type": "markdown",
   "id": "27d7f9ed",
   "metadata": {},
   "source": [
    "# Write a Python program to check a sequence of numbers is a geometric progression or not."
   ]
  },
  {
   "cell_type": "code",
   "execution_count": 11,
   "id": "b270c580",
   "metadata": {},
   "outputs": [],
   "source": [
    "def is_geometric(li):\n",
    "    if len(li) <= 1:\n",
    "        return True\n",
    "    # Calculate ratio\n",
    "    ratio = li[1]/float(li[0])\n",
    "    # Check the ratio of the remaining\n",
    "    for i in range(1, len(li)):\n",
    "        if li[i]/float(li[i-1]) != ratio: # if the ratio is not equal to the first ratio calculate then it will return false\n",
    "            return False\n",
    "    return True "
   ]
  },
  {
   "cell_type": "code",
   "execution_count": 12,
   "id": "819c8ad0",
   "metadata": {},
   "outputs": [
    {
     "name": "stdout",
     "output_type": "stream",
     "text": [
      "True\n"
     ]
    }
   ],
   "source": [
    "list = [2,6,18,54]\n",
    "print(is_geometric(list))"
   ]
  },
  {
   "cell_type": "code",
   "execution_count": null,
   "id": "de8235e6",
   "metadata": {},
   "outputs": [],
   "source": []
  }
 ],
 "metadata": {
  "kernelspec": {
   "display_name": "Python 3 (ipykernel)",
   "language": "python",
   "name": "python3"
  },
  "language_info": {
   "codemirror_mode": {
    "name": "ipython",
    "version": 3
   },
   "file_extension": ".py",
   "mimetype": "text/x-python",
   "name": "python",
   "nbconvert_exporter": "python",
   "pygments_lexer": "ipython3",
   "version": "3.11.4"
  }
 },
 "nbformat": 4,
 "nbformat_minor": 5
}
