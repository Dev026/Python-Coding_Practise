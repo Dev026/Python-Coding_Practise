{
 "cells": [
  {
   "cell_type": "markdown",
   "id": "63b41f8d",
   "metadata": {},
   "source": [
    "# Q1. Write a function to find the longest common prefix string amongst an array of strings.\n",
    "\n",
    "# If there is no common prefix, return an empty string \"\"."
   ]
  },
  {
   "cell_type": "code",
   "execution_count": 3,
   "id": "cedfc4c0",
   "metadata": {},
   "outputs": [],
   "source": [
    "def longestCommonPrefix(strs: list[str]) -> str:\n",
    "        strs.sort()\n",
    "        res = \"\"\n",
    "        longest = strs[0]\n",
    "        strs.sort()\n",
    "        if strs == []:\n",
    "            return ''\n",
    "        if len(strs) == 1:\n",
    "            return s1[0]\n",
    "        for i in range(len(strs)):\n",
    "            if strs[len(strs)-1][i]==longest[i]:\n",
    "                res = res + strs[len(strs)-1][i]\n",
    "            else:\n",
    "                break\n",
    "        return res\n",
    "        "
   ]
  },
  {
   "cell_type": "code",
   "execution_count": 4,
   "id": "5486d14f",
   "metadata": {},
   "outputs": [
    {
     "data": {
      "text/plain": [
       "'fl'"
      ]
     },
     "execution_count": 4,
     "metadata": {},
     "output_type": "execute_result"
    }
   ],
   "source": [
    "input1 = ['flow','flower','flight']\n",
    "longestCommonPrefix(input1)"
   ]
  },
  {
   "cell_type": "markdown",
   "id": "e4436f61",
   "metadata": {},
   "source": [
    "# Q2. Given an array nums of size n, return the majority element.\n",
    "\n",
    "# The majority element is the element that appears more than ⌊n / 2⌋ times. You may assume that the majority element always exists in the array.\n",
    "\n",
    " \n",
    "\n",
    "# Example 1:\n",
    "\n",
    "# Input: nums = [3,2,3]\n",
    "\n",
    "# Output: 3"
   ]
  },
  {
   "cell_type": "code",
   "execution_count": 13,
   "id": "c4aa79da",
   "metadata": {},
   "outputs": [],
   "source": [
    "def majorityElement(nums):\n",
    "    count = {}\n",
    "    res, maxcount = 0 , 0\n",
    "        \n",
    "    for n in nums:\n",
    "        count[n] = 1 + count.get(n, 0)\n",
    "        if count[n]> maxcount:\n",
    "            res = n\n",
    "        else:\n",
    "            res\n",
    "        maxcount= max(count[n], maxcount)\n",
    "    return res"
   ]
  },
  {
   "cell_type": "code",
   "execution_count": 15,
   "id": "5d9477f6",
   "metadata": {},
   "outputs": [
    {
     "name": "stdout",
     "output_type": "stream",
     "text": [
      "3\n",
      "2\n"
     ]
    }
   ],
   "source": [
    "arr = [3,2,3]\n",
    "arr1 = [2,2,1,1,1,2,2,]\n",
    "print(majorityElement(arr))\n",
    "print(majorityElement(arr1))"
   ]
  },
  {
   "cell_type": "code",
   "execution_count": null,
   "id": "bce50a26",
   "metadata": {},
   "outputs": [],
   "source": []
  }
 ],
 "metadata": {
  "kernelspec": {
   "display_name": "Python 3 (ipykernel)",
   "language": "python",
   "name": "python3"
  },
  "language_info": {
   "codemirror_mode": {
    "name": "ipython",
    "version": 3
   },
   "file_extension": ".py",
   "mimetype": "text/x-python",
   "name": "python",
   "nbconvert_exporter": "python",
   "pygments_lexer": "ipython3",
   "version": "3.11.4"
  }
 },
 "nbformat": 4,
 "nbformat_minor": 5
}
