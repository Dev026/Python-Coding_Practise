{
 "cells": [
  {
   "cell_type": "markdown",
   "id": "30abb574",
   "metadata": {},
   "source": [
    "# 1-Write a Python program to find 4 numbers from an array such that the sum of 4 numbers equal to a given number."
   ]
  },
  {
   "cell_type": "code",
   "execution_count": 8,
   "id": "370c33d3",
   "metadata": {},
   "outputs": [
    {
     "name": "stdout",
     "output_type": "stream",
     "text": [
      "1 0 -1 0\n",
      "1 -1 -2 2\n",
      "0 0 -2 2\n"
     ]
    }
   ],
   "source": [
    "num= [1, 0, -1, 0, -2, 2,10,11]\n",
    "target= 0\n",
    "#each for loop is generating a number\n",
    "for i in range(len(num)):\n",
    "    for j in range(i+1, len(num)):\n",
    "        for k in range(j+1, len(num)):\n",
    "            for p in range(k+1, len(num)):\n",
    "                    if ((num[i]+num[j]+num[k]+num[p])==target): #condition for getting the output 0\n",
    "                        print(num[i],num[j],num[k],num[p])\n",
    "    "
   ]
  },
  {
   "cell_type": "markdown",
   "id": "7a6ffbda",
   "metadata": {},
   "source": [
    "# 2-Write a Python program to find the single element appears once in a list where every element appears multiple times except for one. \n"
   ]
  },
  {
   "cell_type": "code",
   "execution_count": 9,
   "id": "88246b90",
   "metadata": {},
   "outputs": [],
   "source": [
    "def single_number(arr):\n",
    "    element_count = {} #creating an Empty Dictonary\n",
    "    for num in arr: #creating for loop element count\n",
    "        if num in element_count: #checking if the number appears more than once in the dict\n",
    "            element_count[num] += 1 \n",
    "        else:\n",
    "            element_count[num] = 1 \n",
    "    for key, value in element_count.items():\n",
    "        if value == 1: #this condition will store the value which appears for only one time in the array\n",
    "            return key"
   ]
  },
  {
   "cell_type": "code",
   "execution_count": 10,
   "id": "f128cdf1",
   "metadata": {},
   "outputs": [
    {
     "data": {
      "text/plain": [
       "3"
      ]
     },
     "execution_count": 10,
     "metadata": {},
     "output_type": "execute_result"
    }
   ],
   "source": [
    "my_list = [1, 1, 1, 2, 2, 2, 3]\n",
    "single_number(my_list)\n"
   ]
  },
  {
   "cell_type": "markdown",
   "id": "0962c6e1",
   "metadata": {},
   "source": [
    "# 3-Write a Python program to add the digits of a positive integer repeatedly until the result has a single digit. "
   ]
  },
  {
   "cell_type": "code",
   "execution_count": 12,
   "id": "7405f364",
   "metadata": {},
   "outputs": [
    {
     "name": "stdout",
     "output_type": "stream",
     "text": [
      "Enter a Positive Integer:48\n",
      "3\n"
     ]
    }
   ],
   "source": [
    "number = int(input(\"Enter a Positive Integer:\"))\n",
    "while number >= 10:\n",
    "    temp_sum = 0\n",
    "    while number > 0:\n",
    "        temp_sum += number % 10 #talking the last number and adding it\n",
    "        number //= 10 #removing the last number\n",
    "    number = temp_sum\n",
    "print(number)\n"
   ]
  },
  {
   "cell_type": "code",
   "execution_count": null,
   "id": "8527d3a2",
   "metadata": {},
   "outputs": [],
   "source": []
  }
 ],
 "metadata": {
  "kernelspec": {
   "display_name": "Python 3 (ipykernel)",
   "language": "python",
   "name": "python3"
  },
  "language_info": {
   "codemirror_mode": {
    "name": "ipython",
    "version": 3
   },
   "file_extension": ".py",
   "mimetype": "text/x-python",
   "name": "python",
   "nbconvert_exporter": "python",
   "pygments_lexer": "ipython3",
   "version": "3.11.4"
  }
 },
 "nbformat": 4,
 "nbformat_minor": 5
}
