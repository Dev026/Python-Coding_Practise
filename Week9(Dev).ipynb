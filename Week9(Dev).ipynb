{
 "cells": [
  {
   "cell_type": "code",
   "execution_count": 19,
   "id": "0873a1da",
   "metadata": {},
   "outputs": [],
   "source": [
    "# def isPalindrome(s):\n",
    "#         alphastr = \"\"\n",
    "#         for i in s:\n",
    "#             if i.isalnum():\n",
    "#                 alphastr += i.lower()\n",
    "#         return alphastr == alphastr[::-1]\n",
    "class solution:\n",
    "    def Palindrome(self, s: str) -> bool:\n",
    "        l,r = 0, len(s)-1\n",
    "        while l < r:\n",
    "            while l < r and not self.alphanum(s[l]):\n",
    "                l += 1\n",
    "            while r > l and not self.alphanum(s[r]):\n",
    "                r -= 1  \n",
    "            if s[l].lower() != s[r].lower():\n",
    "                return False\n",
    "            l,r = l + 1 , r - 1\n",
    "        return True\n",
    "    def alphanum(self, c):\n",
    "        return (ord('A') <= ord(c) <= ord('Z') or\n",
    "                ord('a') <= ord(c) <= ord('z') or\n",
    "                ord('0') <= ord(c) <= ord('9'))"
   ]
  },
  {
   "cell_type": "code",
   "execution_count": 20,
   "id": "d323beb2",
   "metadata": {},
   "outputs": [
    {
     "name": "stdout",
     "output_type": "stream",
     "text": [
      "True\n"
     ]
    }
   ],
   "source": [
    "test_solution = solution()\n",
    "test_input = \"A man, a plan, a canal, Panama!\"\n",
    "print(test_solution.Palindrome(test_input))"
   ]
  },
  {
   "cell_type": "code",
   "execution_count": 24,
   "id": "17b42c4e",
   "metadata": {},
   "outputs": [
    {
     "name": "stdout",
     "output_type": "stream",
     "text": [
      "False\n"
     ]
    }
   ],
   "source": [
    "s = \"race a car\"\n",
    "print(test_solution.Palindrome(s))"
   ]
  },
  {
   "cell_type": "code",
   "execution_count": null,
   "id": "27a35224",
   "metadata": {},
   "outputs": [],
   "source": []
  },
  {
   "cell_type": "code",
   "execution_count": 4,
   "id": "f1eb19e7",
   "metadata": {},
   "outputs": [],
   "source": [
    "def majorityElement( nums):\n",
    "        count = {}\n",
    "        res, maxcount = 0 , 0\n",
    "        \n",
    "        for n in nums:\n",
    "            count[n] = 1 + count.get(n, 0)\n",
    "            if count[n]> maxcount:\n",
    "                res = n\n",
    "            else:\n",
    "                res\n",
    "            maxcount= max(count[n], maxcount)\n",
    "        return res"
   ]
  },
  {
   "cell_type": "code",
   "execution_count": 5,
   "id": "032a87d4",
   "metadata": {},
   "outputs": [
    {
     "name": "stdout",
     "output_type": "stream",
     "text": [
      "3\n"
     ]
    }
   ],
   "source": [
    "nums = [3,2,3]\n",
    "print(majorityElement(nums))"
   ]
  },
  {
   "cell_type": "code",
   "execution_count": 6,
   "id": "f4219161",
   "metadata": {},
   "outputs": [
    {
     "name": "stdout",
     "output_type": "stream",
     "text": [
      "2\n"
     ]
    }
   ],
   "source": [
    "nums = [2,2,1,1,1,2,2]\n",
    "print(majorityElement(nums))"
   ]
  },
  {
   "cell_type": "code",
   "execution_count": null,
   "id": "9635f69c",
   "metadata": {},
   "outputs": [],
   "source": []
  }
 ],
 "metadata": {
  "kernelspec": {
   "display_name": "Python 3 (ipykernel)",
   "language": "python",
   "name": "python3"
  },
  "language_info": {
   "codemirror_mode": {
    "name": "ipython",
    "version": 3
   },
   "file_extension": ".py",
   "mimetype": "text/x-python",
   "name": "python",
   "nbconvert_exporter": "python",
   "pygments_lexer": "ipython3",
   "version": "3.11.4"
  }
 },
 "nbformat": 4,
 "nbformat_minor": 5
}
